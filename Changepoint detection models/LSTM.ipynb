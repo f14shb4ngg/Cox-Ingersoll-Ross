{
  "cells": [
    {
      "cell_type": "code",
      "execution_count": 1,
      "metadata": {},
      "outputs": [],
      "source": [
        "import pandas as pd\n",
        "import datetime\n",
        "\n",
        "interest_rates = pd.read_csv('Interest_rates.csv')\n",
        "interest_rates['date'] = pd.to_datetime(interest_rates['date'], dayfirst=True)\n",
        "interest_rates = interest_rates[interest_rates['date'] >= datetime.datetime(2021, 1, 1)]"
      ]
    },
    {
      "cell_type": "code",
      "execution_count": 2,
      "metadata": {
        "id": "zqTYYPKvhzbp"
      },
      "outputs": [],
      "source": [
        "dates = interest_rates.reset_index()['date'].tolist()\n",
        "rates = interest_rates['interest_rate'].tolist()"
      ]
    },
    {
      "cell_type": "code",
      "execution_count": 4,
      "metadata": {
        "id": "jzYij4YWhzbq"
      },
      "outputs": [],
      "source": [
        "from sklearn.preprocessing import MinMaxScaler\n",
        "import numpy as np\n",
        "\n",
        "period = 128\n",
        "scaler = MinMaxScaler(feature_range=(0, 1))\n",
        "test = rates[-period:]\n",
        "test_dates = dates[-period:]\n",
        "train = scaler.fit_transform(np.array(rates[:-period]).reshape(-1, 1))"
      ]
    },
    {
      "attachments": {},
      "cell_type": "markdown",
      "metadata": {
        "id": "hmlONJClhzbq"
      },
      "source": [
        "### Need to split train data into sequences. ###"
      ]
    },
    {
      "cell_type": "code",
      "execution_count": 5,
      "metadata": {
        "colab": {
          "base_uri": "https://localhost:8080/"
        },
        "id": "F2mL7k_ahzbr",
        "outputId": "6f565a70-7613-4aef-c167-0b9bf4a5fa6d"
      },
      "outputs": [],
      "source": [
        "def create_sequences(dataset, train_batch):\n",
        "    X_train, Y_train = [], []\n",
        "    for i in range(len(dataset)-train_batch):\n",
        "        X_train.append(dataset[i:(i+train_batch), 0])\n",
        "        Y_train.append(dataset[i+train_batch, 0])\n",
        "    return np.array(X_train), np.array(Y_train)"
      ]
    },
    {
      "attachments": {},
      "cell_type": "markdown",
      "metadata": {},
      "source": [
        "### Let's take best train_batch parameter from xgboost. ###"
      ]
    },
    {
      "cell_type": "code",
      "execution_count": 6,
      "metadata": {
        "colab": {
          "base_uri": "https://localhost:8080/"
        },
        "id": "PYYKUoOlhzbr",
        "outputId": "3ad5df20-6765-4262-d90e-2dbfeb6d438d"
      },
      "outputs": [
        {
          "name": "stderr",
          "output_type": "stream",
          "text": [
            "2024-05-18 04:55:45.002719: I tensorflow/core/platform/cpu_feature_guard.cc:182] This TensorFlow binary is optimized to use available CPU instructions in performance-critical operations.\n",
            "To enable the following instructions: AVX2 FMA, in other operations, rebuild TensorFlow with the appropriate compiler flags.\n"
          ]
        }
      ],
      "source": [
        "import tensorflow as tf\n",
        "from keras.models import Sequential\n",
        "from keras.layers import Dense, LSTM, Dropout\n",
        "\n",
        "tf.random.set_seed(42)\n",
        "model = Sequential()\n",
        "model.add(LSTM(200, return_sequences=True, input_shape=(None, 1), activation=\"relu\"))\n",
        "model.add(Dropout(0.2))\n",
        "model.add(LSTM(200, return_sequences=False, input_shape=(None, 1), activation=\"relu\"))\n",
        "model.add(Dense(1))\n",
        "model.compile(loss='mean_squared_error', optimizer='adam')"
      ]
    },
    {
      "cell_type": "code",
      "execution_count": 7,
      "metadata": {},
      "outputs": [
        {
          "name": "stdout",
          "output_type": "stream",
          "text": [
            "Test RMSE = 1.613\n",
            "Test relative error = 2.584%\n",
            "Last test relative error = 3.704%\n"
          ]
        }
      ],
      "source": [
        "from sklearn.metrics import mean_squared_error\n",
        "best_train_batch = 35\n",
        "X_train, y_train = create_sequences(train, best_train_batch)\n",
        "X_train = X_train.reshape(X_train.shape[0], X_train.shape[1], 1)\n",
        "model.fit(X_train, y_train, epochs=100, batch_size=64, verbose=0)\n",
        "X_train_ = train[-best_train_batch:].reshape(1, best_train_batch, 1)\n",
        "test_pred = []\n",
        "for i in range(period):\n",
        "    next_pred = model.predict(X_train_, verbose=0)\n",
        "    X_train_ = X_train_.reshape(X_train_.shape[1])[1:]\n",
        "    X_train_ = np.append(X_train_, next_pred)\n",
        "    X_train_ = X_train_.reshape(1, best_train_batch, 1)\n",
        "    test_pred.append(next_pred[0][0])\n",
        "\n",
        "test_pred = scaler.inverse_transform(np.array(test_pred).reshape(-1, 1)).reshape(period)\n",
        "test_RMSE = mean_squared_error(test, test_pred, squared=False)\n",
        "test_rel_error = ((abs(test - test_pred)) / test) * 100\n",
        "print(\"Test RMSE = %.3f\" % test_RMSE, sep=\"\")\n",
        "print(\"Test relative error = %.3f\" % test_rel_error.mean(), '%', sep=\"\")\n",
        "print(\"Last test relative error = %.3f\" % test_rel_error[-1], '%', sep=\"\")"
      ]
    }
  ],
  "metadata": {
    "accelerator": "GPU",
    "colab": {
      "gpuType": "T4",
      "provenance": []
    },
    "gpuClass": "standard",
    "kernelspec": {
      "display_name": "base",
      "language": "python",
      "name": "python3"
    },
    "language_info": {
      "codemirror_mode": {
        "name": "ipython",
        "version": 3
      },
      "file_extension": ".py",
      "mimetype": "text/x-python",
      "name": "python",
      "nbconvert_exporter": "python",
      "pygments_lexer": "ipython3",
      "version": "3.9.7"
    },
    "orig_nbformat": 4
  },
  "nbformat": 4,
  "nbformat_minor": 0
}
